{
 "cells": [
  {
   "cell_type": "code",
   "execution_count": 1,
   "metadata": {},
   "outputs": [],
   "source": [
    "data_en = []\n",
    "with open('data\\\\news-commentary-v13.zh-en.en') as f:\n",
    "  for i in f:\n",
    "    data_en.append(i.strip())\n",
    "data_ch = []\n",
    "with open('data\\\\news-commentary-v13.zh-en.zh') as f:\n",
    "    for i in f:\n",
    "      data_ch.append(i.strip())"
   ]
  },
  {
   "cell_type": "code",
   "execution_count": 2,
   "metadata": {},
   "outputs": [
    {
     "name": "stdout",
     "output_type": "stream",
     "text": [
      "252777\n",
      "252777\n"
     ]
    }
   ],
   "source": [
    "print(len(data_en))\n",
    "print(len(data_ch))"
   ]
  },
  {
   "cell_type": "code",
   "execution_count": 23,
   "metadata": {},
   "outputs": [],
   "source": [
    "'''\n",
    "划分数据集，后2000为测试集，在后2000为验证集，其余训练集\n",
    "'''\n",
    "test_data_en = data_en[-2000:]\n",
    "val_data_en = data_en[-4000:-2000]\n",
    "train_data_en = data_en[:-4000]\n",
    "short_data_en = data_en[:100]\n",
    "\n",
    "test_data_ch = data_ch[-2000:]\n",
    "val_data_ch = data_ch[-4000:-2000]\n",
    "train_data_ch = data_ch[:-4000]\n",
    "short_data_ch = data_ch[:100]\n",
    "# print(len(short_data_ch))"
   ]
  },
  {
   "cell_type": "code",
   "execution_count": 16,
   "metadata": {},
   "outputs": [],
   "source": [
    "import torch\n",
    "from torch.utils.data import Dataset,DataLoader\n",
    "from transformers import AutoTokenizer, AutoModelForSeq2SeqLM\n",
    "from torch.utils.tensorboard import SummaryWriter\n",
    "from datetime import datetime"
   ]
  },
  {
   "cell_type": "code",
   "execution_count": null,
   "metadata": {},
   "outputs": [],
   "source": [
    "# 初始化 TensorBoard \n",
    "log_dir = f\"logs/fit/{datetime.now().strftime('%Y%m%d-%H%M%S')}\"\n",
    "writer = SummaryWriter(log_dir)"
   ]
  },
  {
   "cell_type": "code",
   "execution_count": 3,
   "metadata": {},
   "outputs": [],
   "source": [
    "# 加载分词器\n",
    "tokenizer = AutoTokenizer.from_pretrained(\"./local_model/opus-mt-en-zh\")\n",
    "\n",
    "# 加载模型\n",
    "model = AutoModelForSeq2SeqLM.from_pretrained(\"./local_model/opus-mt-en-zh\")"
   ]
  },
  {
   "cell_type": "code",
   "execution_count": 55,
   "metadata": {},
   "outputs": [],
   "source": [
    "class TransDataset(Dataset):\n",
    "    \"\"\"\n",
    "    PyTorch数据类，用于PyTorch DataLoader来按批次产生数据\n",
    "    \"\"\"\n",
    "\n",
    "    def __init__(self, data_en,data_ch):\n",
    "        \"\"\"\n",
    "        参数：data_en,data_ch -- 英文和中文对应列表\n",
    "        \"\"\"\n",
    "        self.data_tensor = tokenizer(\n",
    "            data_en,\n",
    "            padding='max_length', \n",
    "            truncation=True, \n",
    "            max_length = 128,\n",
    "            return_tensors=\"pt\"\n",
    "        )\n",
    "        with tokenizer.as_target_tokenizer():\n",
    "            self.target_tensor = tokenizer(\n",
    "                data_ch,\n",
    "                padding='max_length', \n",
    "                truncation=True, \n",
    "                max_length = 128,\n",
    "                return_tensors=\"pt\"\n",
    "        )\n",
    "    def __getitem__(self, index):\n",
    "        return {\n",
    "            'input_ids': self.data_tensor['input_ids'][index],\n",
    "            'attention_mask': self.data_tensor['attention_mask'][index]\n",
    "        }, {\n",
    "            'input_ids': self.target_tensor['input_ids'][index]\n",
    "        }\n",
    "    def __len__(self):\n",
    "        return self.data_tensor['input_ids'].size(0)"
   ]
  },
  {
   "cell_type": "code",
   "execution_count": null,
   "metadata": {},
   "outputs": [],
   "source": [
    "'''\n",
    "一些训练参数\n",
    "'''\n",
    "batch_size = 64\n",
    "epoch_num = 3\n",
    "save_directory = \"./saved_model\"\n",
    "# 定义优化器\n",
    "optimizer = torch.optim.AdamW(model.parameters(), lr=5e-5)"
   ]
  },
  {
   "cell_type": "code",
   "execution_count": null,
   "metadata": {},
   "outputs": [],
   "source": [
    "def mktrainval(batch_size, workers=4):\n",
    "  train_set = TransDataset(train_data_en,train_data_ch)\n",
    "  val_set = TransDataset(val_data_en,val_data_ch)\n",
    "  test_set = TransDataset(test_data_en,test_data_ch)\n",
    "  train_loader = DataLoader(train_set, batch_size=batch_size, shuffle=True, num_workers=workers, pin_memory=True)\n",
    "  val_loader = DataLoader(val_set, batch_size=batch_size, shuffle=False, num_workers=workers, pin_memory=True, drop_last=False)\n",
    "  test_loader = DataLoader(test_set, batch_size=batch_size, shuffle=False, num_workers=workers, pin_memory=True, drop_last=False)\n",
    "  return train_loader,val_loader,test_loader"
   ]
  },
  {
   "cell_type": "code",
   "execution_count": null,
   "metadata": {},
   "outputs": [],
   "source": [
    "train_loader,val_loader,test_loader = mktrainval(batch_size)"
   ]
  },
  {
   "cell_type": "code",
   "execution_count": null,
   "metadata": {},
   "outputs": [],
   "source": [
    "# 定义评估函数\n",
    "def evaluate(model, val_loader,  device):\n",
    "    model.eval()\n",
    "    val_loss = 0\n",
    "\n",
    "    with torch.no_grad():\n",
    "        for inputs, targets in val_loader:\n",
    "            input_ids, attention_mask = inputs['input_ids'].to(device), inputs['attention_mask'].to(device)\n",
    "            labels = targets['input_ids'].to(device)\n",
    "            outputs = model(input_ids=input_ids, attention_mask=attention_mask, labels=labels)\n",
    "            loss = outputs.loss\n",
    "            val_loss += loss.item()\n",
    "\n",
    "    # 平均损失\n",
    "    val_loss /= len(val_loader)\n",
    "    return val_loss"
   ]
  },
  {
   "cell_type": "code",
   "execution_count": null,
   "metadata": {},
   "outputs": [],
   "source": [
    "# 定义设备\n",
    "device = torch.device('cuda' if torch.cuda.is_available() else 'cpu')\n",
    "model.to(device)\n",
    "# 训练循环\n",
    "model.train()\n",
    "for epoch in range(epoch_num):\n",
    "    for batch, (inputs,targets) in enumerate(train_loader, start=1):\n",
    "        input_ids, attention_mask, labels = inputs['input_ids'].to(device), inputs['attention_mask'].to(device), targets['input_ids'].to(device)\n",
    "\n",
    "        # 清零优化器梯度\n",
    "        optimizer.zero_grad()\n",
    "\n",
    "        # 计算模型输出和损失\n",
    "        outputs = model(input_ids=input_ids, attention_mask=attention_mask, labels=labels)\n",
    "        loss = outputs.loss\n",
    "\n",
    "        # 反向传播\n",
    "        loss.backward()\n",
    "\n",
    "        # 更新参数\n",
    "        optimizer.step()\n",
    "\n",
    "        print(f'Epoch: {epoch + 1}, Batch: {batch}, Loss: {loss.item()}')\n",
    "        # 记录训练损失\n",
    "        writer.add_scalar('Loss/train', loss.item(), epoch * len(train_loader) + batch)\n",
    "\n",
    "    # 每个 epoch 结束后进行评估\n",
    "    val_loss= evaluate(model, val_loader,device)\n",
    "    print(f'Epoch: {epoch + 1}, Validation Loss: {val_loss}')\n",
    "    # 记录验证损失\n",
    "    writer.add_scalar('Loss/validation', val_loss, epoch)\n",
    "\n",
    "    # 保存模型权重\n",
    "    if val_loss < best_loss:\n",
    "        model.save_pretrained(save_directory)\n",
    "        best_loss=val_loss\n",
    "    # 将模型重新设置为训练模式\n",
    "    model.train()\n",
    "# 全部结束后在测试集测试\n",
    "test_loss,test_bleu= evaluate(model, test_loader,device)\n",
    "print(f'Test Loss: {val_loss}')\n",
    "\n",
    "# 记录测试损失\n",
    "writer.add_scalar('Loss/test', test_loss, epoch_num)\n",
    "\n",
    "# 关闭 TensorBoard 记录器\n",
    "writer.close()"
   ]
  }
 ],
 "metadata": {
  "kernelspec": {
   "display_name": "speech",
   "language": "python",
   "name": "python3"
  },
  "language_info": {
   "codemirror_mode": {
    "name": "ipython",
    "version": 3
   },
   "file_extension": ".py",
   "mimetype": "text/x-python",
   "name": "python",
   "nbconvert_exporter": "python",
   "pygments_lexer": "ipython3",
   "version": "3.12.3"
  }
 },
 "nbformat": 4,
 "nbformat_minor": 2
}
